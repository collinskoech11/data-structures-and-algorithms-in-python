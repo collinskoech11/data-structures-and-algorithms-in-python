{
 "cells": [
  {
   "cell_type": "markdown",
   "metadata": {},
   "source": [
    "A linked list is a collection of 'nodes'. \n",
    "The first node is called the head, and it’s used as the starting point for any iteration through the list. \n",
    "The last node must have its next reference pointing to None to determine the end of the list."
   ]
  },
  {
   "cell_type": "markdown",
   "metadata": {},
   "source": [
    "## Node"
   ]
  },
  {
   "cell_type": "code",
   "execution_count": 1,
   "metadata": {},
   "outputs": [],
   "source": [
    "class Node(object):\n",
    "    def __init__(self,value):\n",
    "        self.value = value\n",
    "        self.next = None"
   ]
  },
  {
   "cell_type": "markdown",
   "metadata": {},
   "source": [
    "## Linked List"
   ]
  },
  {
   "cell_type": "code",
   "execution_count": 2,
   "metadata": {},
   "outputs": [],
   "source": [
    "class LinkedList(object):\n",
    "    def __init__(self, head=None):\n",
    "        self.head = head\n",
    "    \n",
    "    def append(self, new_element):\n",
    "        current =  self.head\n",
    "        if self.head:\n",
    "            # iterate through the next reference in every Node until you reach the end of the list\n",
    "            while current.next:\n",
    "                current = current.next\n",
    "            # set next for the end of the list to be the new_element \n",
    "            current.next = new_element\n",
    "        # if there is no head, you should just assign new_element to it\n",
    "        else:\n",
    "            self.head = new_element\n",
    "            \n",
    "            \n",
    "    # deletes by value(not 'index')        \n",
    "    def delete(self, value):\n",
    "        current = self.head\n",
    "        previous = None\n",
    "        while current.value != value and current.next:\n",
    "            previous = current\n",
    "            current = current.next\n",
    "        if current.value == value:\n",
    "            if previous:\n",
    "                previous.next = current.next\n",
    "            else:\n",
    "                self.head = current.next\n",
    "                \n",
    "    def get_position(self, position):\n",
    "        counter = 0\n",
    "        current = self.head\n",
    "        if position < 0:\n",
    "            return None\n",
    "        while current and counter <= position:\n",
    "            if counter == position:\n",
    "                return current\n",
    "            current = current.next\n",
    "            counter += 1\n",
    "        return None\n",
    "    \n",
    "    def insert(self, new_element, position):\n",
    "        counter = 0\n",
    "        current = self.head\n",
    "        if position == 0:\n",
    "            new_element.next = self.head\n",
    "            self.head = new_element\n",
    "        elif position > 0:\n",
    "            while current and counter < position:\n",
    "                if counter ==  position - 1:\n",
    "                    new_element.next = current.next \n",
    "                    current.next =  new_element\n",
    "                #\n",
    "                current = current.next\n",
    "                counter += 1\n",
    "    \n",
    "    # Returns the length of the linked list\n",
    "    def length(self):\n",
    "        counter = 0\n",
    "        current = self.head\n",
    "        while current:\n",
    "            counter += 1\n",
    "            current = current.next\n",
    "        return counter\n",
    "            \n",
    "    # Prints out the linked list in traditional Python list format\n",
    "    def display(self):\n",
    "        elements = []\n",
    "        current = self.head\n",
    "        while current:\n",
    "            elements.append(current.value)\n",
    "            current = current.next\n",
    "        print(elements)\n",
    "        \n",
    "    # Deletes the node at index 'position'\n",
    "    def erase(self, position):\n",
    "        if position > self.length():\n",
    "            return print(\"ERROR: Index out of range!\")\n",
    "        \n",
    "        if self.head == None: \n",
    "            return\n",
    "        \n",
    "        counter =  0\n",
    "        current =  self.head\n",
    "        \n",
    "        if position == 0:\n",
    "            self.head = current.next\n",
    "            return\n",
    "            \n",
    "\n",
    "        while current.next and counter < position:\n",
    "            previous = current\n",
    "            current = current.next\n",
    "            if counter == position - 1:\n",
    "                previous.next = current.next              \n",
    "            counter += 1"
   ]
  },
  {
   "cell_type": "markdown",
   "metadata": {},
   "source": [
    "## Testing"
   ]
  },
  {
   "cell_type": "code",
   "execution_count": 3,
   "metadata": {},
   "outputs": [],
   "source": [
    "# Set up some Nodes\n",
    "e1 = Node(1)\n",
    "e2 = Node(2)\n",
    "e3 = Node(3)\n",
    "e4 = Node(4)\n",
    "e5 = Node(5)\n",
    "\n",
    "# Start setting up a LinkedList\n",
    "ll = LinkedList(e1)\n",
    "ll.append(e2)\n",
    "ll.append(e3)\n",
    "ll.append(e5)"
   ]
  },
  {
   "cell_type": "markdown",
   "metadata": {},
   "source": [
    "### Test Display"
   ]
  },
  {
   "cell_type": "code",
   "execution_count": 4,
   "metadata": {},
   "outputs": [
    {
     "name": "stdout",
     "output_type": "stream",
     "text": [
      "[1, 2, 3, 5]\n"
     ]
    }
   ],
   "source": [
    "ll.display()"
   ]
  },
  {
   "cell_type": "markdown",
   "metadata": {},
   "source": [
    "### Test Length "
   ]
  },
  {
   "cell_type": "code",
   "execution_count": 5,
   "metadata": {},
   "outputs": [
    {
     "name": "stdout",
     "output_type": "stream",
     "text": [
      "length is equal to: 4\n"
     ]
    }
   ],
   "source": [
    "print(\"length is equal to: \" + str(ll.length()))"
   ]
  },
  {
   "cell_type": "markdown",
   "metadata": {},
   "source": [
    "### Test get_position"
   ]
  },
  {
   "cell_type": "code",
   "execution_count": 6,
   "metadata": {},
   "outputs": [
    {
     "name": "stdout",
     "output_type": "stream",
     "text": [
      "3\n",
      "3\n"
     ]
    }
   ],
   "source": [
    "# Should print 3\n",
    "print(ll.head.next.next.value)\n",
    "# Should also print 3\n",
    "print(ll.get_position(2).value)\n"
   ]
  },
  {
   "cell_type": "markdown",
   "metadata": {},
   "source": [
    "### Test insert"
   ]
  },
  {
   "cell_type": "code",
   "execution_count": 7,
   "metadata": {},
   "outputs": [
    {
     "name": "stdout",
     "output_type": "stream",
     "text": [
      "4\n"
     ]
    }
   ],
   "source": [
    "ll.insert(e4,2)\n",
    "# Should print 4 now\n",
    "print(ll.get_position(2).value)"
   ]
  },
  {
   "cell_type": "markdown",
   "metadata": {},
   "source": [
    "### Test delete"
   ]
  },
  {
   "cell_type": "code",
   "execution_count": 8,
   "metadata": {},
   "outputs": [
    {
     "name": "stdout",
     "output_type": "stream",
     "text": [
      "[1, 2, 4, 3, 5]\n",
      "Deleting...\n",
      "Should print: 2\n",
      "2\n",
      "Should print: 4\n",
      "4\n",
      "[2, 4, 3, 5]\n"
     ]
    }
   ],
   "source": [
    "ll.display()\n",
    "one = ll.get_position(0).value\n",
    "two = ll.get_position(1).value\n",
    "three = ll.get_position(2).value\n",
    "\n",
    "\n",
    "print(\"Deleting...\")\n",
    "ll.delete(one)\n",
    "print(\"Should print: \" + str(two))\n",
    "print(ll.get_position(0).value)\n",
    "print(\"Should print: \" + str(three))\n",
    "print(ll.get_position(1).value)\n",
    "ll.display()"
   ]
  },
  {
   "cell_type": "markdown",
   "metadata": {},
   "source": [
    "### Test erase"
   ]
  },
  {
   "cell_type": "code",
   "execution_count": 9,
   "metadata": {},
   "outputs": [
    {
     "name": "stdout",
     "output_type": "stream",
     "text": [
      "[2, 4, 3, 5]\n",
      "[2, 3, 5]\n"
     ]
    }
   ],
   "source": [
    "ll.display()\n",
    "ll.erase(1)\n",
    "ll.display()"
   ]
  }
 ],
 "metadata": {
  "kernelspec": {
   "display_name": "Python 3",
   "language": "python",
   "name": "python3"
  },
  "language_info": {
   "codemirror_mode": {
    "name": "ipython",
    "version": 3
   },
   "file_extension": ".py",
   "mimetype": "text/x-python",
   "name": "python",
   "nbconvert_exporter": "python",
   "pygments_lexer": "ipython3",
   "version": "3.6.10"
  }
 },
 "nbformat": 4,
 "nbformat_minor": 4
}
